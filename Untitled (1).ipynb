{
 "cells": [
  {
   "cell_type": "code",
   "execution_count": 1,
   "id": "48cdbe3e-6da5-40c8-98fc-4e9db9a4a456",
   "metadata": {},
   "outputs": [
    {
     "ename": "IndentationError",
     "evalue": "expected an indented block after 'if' statement on line 24 (788939123.py, line 26)",
     "output_type": "error",
     "traceback": [
      "\u001b[1;36m  Cell \u001b[1;32mIn[1], line 26\u001b[1;36m\u001b[0m\n\u001b[1;33m    sintan(45)\u001b[0m\n\u001b[1;37m              ^\u001b[0m\n\u001b[1;31mIndentationError\u001b[0m\u001b[1;31m:\u001b[0m expected an indented block after 'if' statement on line 24\n"
     ]
    }
   ],
   "source": [
    "from collections import deque\n",
    "def sintan(Input):\n",
    "    list = [0,1, 2, 4, 8, 9 ]\n",
    "    SINTAN = deque(list)\n",
    "    print(f'Your input number is {Input} ')\n",
    "    print(f'Here this is this function list: {list}')\n",
    "    subracting_input_1 = Input - 1                   #Subtracting input number with one\n",
    "    dividing_subracted_input = subracting_input_1/2    #Dividing subtracted input number\n",
    "    subracting_input_2 = subracting_input_1 - 2        #subraacting subracting_input_1 with two\n",
    "    print (f\"Subtracting input number with 1: {subracting_input_1}\")\n",
    "    print (f\"Subtracting subracting_input_1 number with 2: {subracting_input_2}\")\n",
    "    print(f\"Dividing subracting_input_1 with 2: {dividing_subracted_input}\")\n",
    "    while SINTAN:\n",
    "        deleting_data_from_first = SINTAN.popleft()\n",
    "        print(deleting_data_from_first)\n",
    "        while SINTAN:\n",
    "              deleting_data_from_last = SINTAN.pop() \n",
    "              print(deleting_data_from_last) \n",
    "              data_1 = dividing_subracted_input == deleting_data_from_first\n",
    "              data_2 = dividing_subracted_input == deleting_data_from_last\n",
    "              data_3 = subracting_input_2 == deleting_data_from_first \n",
    "              data_4 = subracting_input_2 == deleting_data_from_last\n",
    "              if data_1 and data_2 and data_3 and data_4:\n",
    "                  if data_1 == True:\n",
    "\n",
    "sintan(45)\n"
   ]
  },
  {
   "cell_type": "code",
   "execution_count": null,
   "id": "fc088e61-6fc8-4bee-93e9-9a944475882f",
   "metadata": {},
   "outputs": [],
   "source": []
  }
 ],
 "metadata": {
  "kernelspec": {
   "display_name": "Python 3 (ipykernel)",
   "language": "python",
   "name": "python3"
  },
  "language_info": {
   "codemirror_mode": {
    "name": "ipython",
    "version": 3
   },
   "file_extension": ".py",
   "mimetype": "text/x-python",
   "name": "python",
   "nbconvert_exporter": "python",
   "pygments_lexer": "ipython3",
   "version": "3.11.9"
  }
 },
 "nbformat": 4,
 "nbformat_minor": 5
}
