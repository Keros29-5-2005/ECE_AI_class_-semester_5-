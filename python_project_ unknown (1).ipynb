{
 "cells": [
  {
   "cell_type": "code",
   "execution_count": 1,
   "id": "695a466f-bd90-491f-98b8-f26081688852",
   "metadata": {},
   "outputs": [
    {
     "ename": "SyntaxError",
     "evalue": "invalid syntax (3883259097.py, line 4)",
     "output_type": "error",
     "traceback": [
      "\u001b[1;36m  Cell \u001b[1;32mIn[1], line 4\u001b[1;36m\u001b[0m\n\u001b[1;33m    SINTAN = deque.([list])\u001b[0m\n\u001b[1;37m                   ^\u001b[0m\n\u001b[1;31mSyntaxError\u001b[0m\u001b[1;31m:\u001b[0m invalid syntax\n"
     ]
    }
   ],
   "source": [
    "from collections import deque\n",
    "def sintan(Input_1):\n",
    "    list = [0,1, 2, 4, 8, 9 ]\n",
    "    SINTAN = deque.([list])\n",
    "    print(f'your input number is{Input_1} ')\n",
    "    print(f'Here this is this function list: {list}')\n",
    "    subracting_input_1 = input - 1                      #Subtracting input number with one\n",
    "    dividing_subracted_input = subracting_input_1/2     #Dividing subtracted input number\n",
    "    subracting_input_2 = subracting_input_1 - 2         #subraacting subracting_input_1 with two\n",
    "    for i in pop(list):\n",
    "        print(i)\n",
    "def(24)    "
   ]
  },
  {
   "cell_type": "code",
   "execution_count": null,
   "id": "81064909-ce3c-4d63-97bb-7f217b2f6cf5",
   "metadata": {},
   "outputs": [],
   "source": []
  }
 ],
 "metadata": {
  "kernelspec": {
   "display_name": "Python 3 (ipykernel)",
   "language": "python",
   "name": "python3"
  },
  "language_info": {
   "codemirror_mode": {
    "name": "ipython",
    "version": 3
   },
   "file_extension": ".py",
   "mimetype": "text/x-python",
   "name": "python",
   "nbconvert_exporter": "python",
   "pygments_lexer": "ipython3",
   "version": "3.11.9"
  }
 },
 "nbformat": 4,
 "nbformat_minor": 5
}
