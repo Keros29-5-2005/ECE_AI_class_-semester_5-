{
 "cells": [
  {
   "cell_type": "markdown",
   "id": "6129ba79-c574-4323-b49a-e62499a3e5f9",
   "metadata": {},
   "source": [
    "##Queue Operatipons\n",
    "    .Enqueue\n",
    "    .Dequeue\n",
    "    .size \n",
    "    .front\n",
    "    .rare"
   ]
  },
  {
   "cell_type": "code",
   "execution_count": 1,
   "id": "dd62c120-9d58-499e-84f9-5c1e17c650ba",
   "metadata": {},
   "outputs": [],
   "source": [
    "from collections import deque"
   ]
  },
  {
   "cell_type": "code",
   "execution_count": 2,
   "id": "9e6b0b77-1a2e-4f02-942d-b5676d263b99",
   "metadata": {},
   "outputs": [],
   "source": [
    "q = deque(['a','b','c','d','e'])"
   ]
  },
  {
   "cell_type": "code",
   "execution_count": 3,
   "id": "24c45746-921f-4839-98c6-ed4b8798f8dd",
   "metadata": {},
   "outputs": [],
   "source": [
    "q.appendleft('o')"
   ]
  },
  {
   "cell_type": "code",
   "execution_count": 4,
   "id": "f1b9c0fe-f677-48b1-95ea-ea57b7e19634",
   "metadata": {},
   "outputs": [
    {
     "data": {
      "text/plain": [
       "deque(['o', 'a', 'b', 'c', 'd', 'e'])"
      ]
     },
     "execution_count": 4,
     "metadata": {},
     "output_type": "execute_result"
    }
   ],
   "source": [
    "q"
   ]
  },
  {
   "cell_type": "code",
   "execution_count": 5,
   "id": "87819e5c-3d34-4c92-91d8-1255f55981b1",
   "metadata": {},
   "outputs": [],
   "source": [
    "q.append('f')"
   ]
  },
  {
   "cell_type": "code",
   "execution_count": 6,
   "id": "7167fbfb-c5ff-4142-9e9b-5f2dfa856797",
   "metadata": {},
   "outputs": [
    {
     "data": {
      "text/plain": [
       "deque(['o', 'a', 'b', 'c', 'd', 'e', 'f'])"
      ]
     },
     "execution_count": 6,
     "metadata": {},
     "output_type": "execute_result"
    }
   ],
   "source": [
    "q"
   ]
  },
  {
   "cell_type": "code",
   "execution_count": 7,
   "id": "d12bf896-52aa-4332-86f3-ec8646e6befa",
   "metadata": {},
   "outputs": [
    {
     "data": {
      "text/plain": [
       "'o'"
      ]
     },
     "execution_count": 7,
     "metadata": {},
     "output_type": "execute_result"
    }
   ],
   "source": [
    "q.popleft()"
   ]
  },
  {
   "cell_type": "code",
   "execution_count": 8,
   "id": "5a1dc672-ae09-41ed-98ad-681546518bd3",
   "metadata": {},
   "outputs": [
    {
     "data": {
      "text/plain": [
       "deque(['a', 'b', 'c', 'd', 'e', 'f'])"
      ]
     },
     "execution_count": 8,
     "metadata": {},
     "output_type": "execute_result"
    }
   ],
   "source": [
    "q"
   ]
  },
  {
   "cell_type": "code",
   "execution_count": 9,
   "id": "39449a23-900c-41ea-9487-dc50331db6ee",
   "metadata": {},
   "outputs": [
    {
     "data": {
      "text/plain": [
       "deque(['a', 'b', 'c', 'd', 'e', 'f'])"
      ]
     },
     "execution_count": 9,
     "metadata": {},
     "output_type": "execute_result"
    }
   ],
   "source": [
    "q"
   ]
  },
  {
   "cell_type": "code",
   "execution_count": 38,
   "id": "6e9beb5e-c472-4800-ab1e-6268f866d92e",
   "metadata": {},
   "outputs": [],
   "source": [
    "insta_following_Connections = {'solitary_world_7020':['imaginedragons','treygustafson_'],\n",
    "                               'imaginedragons':['theboystv','dragonwagon'],\n",
    "                               'treygustafson_':['xxx', 'yyy'],\n",
    "                               'theboystv':['rrr','qqq'],'dragonwago':['iii','ooo']  }"
   ]
  },
  {
   "cell_type": "code",
   "execution_count": 46,
   "id": "f2f746b9-4392-4c47-866b-df41df47c0ef",
   "metadata": {},
   "outputs": [
    {
     "data": {
      "text/plain": [
       "{'A': ['B', 'C'], 'B': ['D', 'E'], 'C': ['F'], 'D': [], 'E': ['F'], 'F': []}"
      ]
     },
     "execution_count": 46,
     "metadata": {},
     "output_type": "execute_result"
    }
   ],
   "source": [
    "insta_following_Connections\n",
    "graph = {\n",
    "    'A': ['B', 'C'],\n",
    "    'B': ['D', 'E'],\n",
    "    'C': ['F'],\n",
    "    'D': [],\n",
    "    'E': ['F'],\n",
    "    'F': []\n",
    "}\n",
    "graph"
   ]
  },
  {
   "cell_type": "code",
   "execution_count": 69,
   "id": "bbd60608-8ca1-4806-84d1-2dfe6cc8f225",
   "metadata": {},
   "outputs": [],
   "source": [
    "def bfs(graph, start, goal):\n",
    "    visted = []\n",
    "    queue = deque([start])\n",
    "    while queue:\n",
    "        node = queue.popleft()\n",
    "        if node not in visted:\n",
    "            visted.append(node)\n",
    "            print(' I have visted this node',node)\n",
    "            neighbour = graph[node]\n",
    "            if node == goal:\n",
    "                print('this my Travel path',visted)\n",
    "            for neighbour in neighbour:\n",
    "                queue.append(neighbour)\n",
    "                "
   ]
  },
  {
   "cell_type": "code",
   "execution_count": 70,
   "id": "a42cda22-904d-45f8-83aa-f1aa7f1acf5a",
   "metadata": {},
   "outputs": [
    {
     "name": "stdout",
     "output_type": "stream",
     "text": [
      " I have visted this node B\n",
      " I have visted this node D\n",
      " I have visted this node E\n",
      " I have visted this node F\n",
      "this my Travel path ['B', 'D', 'E', 'F']\n"
     ]
    }
   ],
   "source": [
    "bfs(graph, 'B', 'F')"
   ]
  },
  {
   "cell_type": "code",
   "execution_count": null,
   "id": "e495c4b8-1d3c-40cf-831e-3a592cbd3a9c",
   "metadata": {},
   "outputs": [],
   "source": []
  },
  {
   "cell_type": "code",
   "execution_count": null,
   "id": "b27cd24b-8e7c-4513-b4d8-5294539a2152",
   "metadata": {},
   "outputs": [],
   "source": []
  }
 ],
 "metadata": {
  "kernelspec": {
   "display_name": "Python 3 (ipykernel)",
   "language": "python",
   "name": "python3"
  },
  "language_info": {
   "codemirror_mode": {
    "name": "ipython",
    "version": 3
   },
   "file_extension": ".py",
   "mimetype": "text/x-python",
   "name": "python",
   "nbconvert_exporter": "python",
   "pygments_lexer": "ipython3",
   "version": "3.11.9"
  }
 },
 "nbformat": 4,
 "nbformat_minor": 5
}
