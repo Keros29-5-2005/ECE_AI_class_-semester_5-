{
 "cells": [
  {
   "cell_type": "code",
   "execution_count": null,
   "id": "4844d878-ca53-4abf-bd19-6844a7303255",
   "metadata": {},
   "outputs": [],
   "source": []
  },
  {
   "cell_type": "code",
   "execution_count": 1,
   "id": "2e685169-d7b4-4826-9fea-17a0467afaeb",
   "metadata": {},
   "outputs": [
    {
     "name": "stdout",
     "output_type": "stream",
     "text": [
      "Requirement already satisfied: numpy==1.26 in d:\\app\\anaconda_folder\\envs\\ai_class_spec_7020\\lib\\site-packages (1.26.0)\n",
      "Note: you may need to restart the kernel to use updated packages.\n"
     ]
    }
   ],
   "source": [
    "pip install numpy==1.26"
   ]
  },
  {
   "cell_type": "code",
   "execution_count": 2,
   "id": "3e4213b2-eda2-4a6c-850c-c4b7445979de",
   "metadata": {},
   "outputs": [],
   "source": [
    "import numpy as np"
   ]
  },
  {
   "cell_type": "code",
   "execution_count": 3,
   "id": "a13407e1-0a40-4084-9c09-9a266cdfa434",
   "metadata": {},
   "outputs": [
    {
     "data": {
      "text/plain": [
       "'1.26.0'"
      ]
     },
     "execution_count": 3,
     "metadata": {},
     "output_type": "execute_result"
    }
   ],
   "source": [
    "np.__version__"
   ]
  },
  {
   "cell_type": "code",
   "execution_count": 5,
   "id": "45e0d94e-a335-421c-b1ab-bd417149f260",
   "metadata": {},
   "outputs": [],
   "source": [
    "a = np.array([(13, 54, 23)])"
   ]
  },
  {
   "cell_type": "code",
   "execution_count": 6,
   "id": "57699e15-0238-4a13-8734-c6e241e8006b",
   "metadata": {},
   "outputs": [
    {
     "data": {
      "text/plain": [
       "array([[13, 54, 23]])"
      ]
     },
     "execution_count": 6,
     "metadata": {},
     "output_type": "execute_result"
    }
   ],
   "source": [
    "a"
   ]
  },
  {
   "cell_type": "code",
   "execution_count": null,
   "id": "0c456613-aca8-4dc0-9c47-04268d124f4c",
   "metadata": {},
   "outputs": [],
   "source": []
  },
  {
   "cell_type": "code",
   "execution_count": 11,
   "id": "5fed1df9-4227-4f39-8024-4d79b5a7ce13",
   "metadata": {},
   "outputs": [],
   "source": [
    "list = [23, 3.94, True, \"yyy\"]"
   ]
  },
  {
   "cell_type": "code",
   "execution_count": 22,
   "id": "33d43ab1-d801-455c-8d43-047ec18bdf71",
   "metadata": {},
   "outputs": [],
   "source": [
    "A = np.array([(\"xxx\", True, 790.00), (38, 20, 2), (8, 49, 9.94)])"
   ]
  },
  {
   "cell_type": "code",
   "execution_count": 23,
   "id": "91f41db8-4a59-40ac-9e9f-7b9629d3aff8",
   "metadata": {},
   "outputs": [
    {
     "data": {
      "text/plain": [
       "array([['xxx', 'True', '790.0'],\n",
       "       ['38', '20', '2'],\n",
       "       ['8', '49', '9.94']], dtype='<U32')"
      ]
     },
     "execution_count": 23,
     "metadata": {},
     "output_type": "execute_result"
    }
   ],
   "source": [
    "A"
   ]
  },
  {
   "cell_type": "code",
   "execution_count": 24,
   "id": "1ea7a775-9555-4763-aab3-b38b3c5a75a8",
   "metadata": {},
   "outputs": [
    {
     "name": "stdout",
     "output_type": "stream",
     "text": [
      "[['xxx' 'True' '790.0']\n",
      " ['38' '20' '2']\n",
      " ['8' '49' '9.94']]\n"
     ]
    }
   ],
   "source": [
    "print(A)"
   ]
  },
  {
   "cell_type": "code",
   "execution_count": 27,
   "id": "cb90bb17-da95-4e30-8d47-122af85bbd95",
   "metadata": {},
   "outputs": [],
   "source": [
    "A[0][1] = 1\n",
    "A = np.transpose(A)\n"
   ]
  },
  {
   "cell_type": "code",
   "execution_count": 29,
   "id": "828966ac-5aec-49be-a6b0-e7a5046bd3c8",
   "metadata": {},
   "outputs": [
    {
     "data": {
      "text/plain": [
       "9"
      ]
     },
     "execution_count": 29,
     "metadata": {},
     "output_type": "execute_result"
    }
   ],
   "source": [
    "A.shape\n",
    "A.size"
   ]
  },
  {
   "cell_type": "code",
   "execution_count": 34,
   "id": "680b9e7c-07df-4454-a170-2fcd3d209758",
   "metadata": {},
   "outputs": [
    {
     "data": {
      "text/plain": [
       "array(['xxx', '38', '8', '1', '20', '49', '790.0', '2', '9.94'],\n",
       "      dtype='<U32')"
      ]
     },
     "execution_count": 34,
     "metadata": {},
     "output_type": "execute_result"
    }
   ],
   "source": [
    "Az = np.ravel(A)\n",
    "A"
   ]
  },
  {
   "cell_type": "code",
   "execution_count": 47,
   "id": "4c510c6f-0fcb-4478-acfc-5943a857009c",
   "metadata": {},
   "outputs": [
    {
     "data": {
      "text/plain": [
       "array([['xxx', '38', '8'],\n",
       "       ['1', '20', '49'],\n",
       "       ['790.0', '2', '9.94']], dtype='<U32')"
      ]
     },
     "execution_count": 47,
     "metadata": {},
     "output_type": "execute_result"
    }
   ],
   "source": [
    "A.reshape(3,3)"
   ]
  },
  {
   "cell_type": "code",
   "execution_count": 44,
   "id": "f2c9c585-5a82-4f64-b885-7a48e4bed3a9",
   "metadata": {},
   "outputs": [
    {
     "data": {
      "text/plain": [
       "array([[0., 0., 0.],\n",
       "       [0., 0., 0.],\n",
       "       [0., 0., 0.]])"
      ]
     },
     "execution_count": 44,
     "metadata": {},
     "output_type": "execute_result"
    }
   ],
   "source": [
    "zeros = np.zeros((3,3))\n",
    "zeros"
   ]
  },
  {
   "cell_type": "code",
   "execution_count": 38,
   "id": "e904a7f0-d53d-4f17-9af3-b05b9b8e5075",
   "metadata": {},
   "outputs": [
    {
     "data": {
      "text/plain": [
       "array([[1., 1., 1.],\n",
       "       [1., 1., 1.],\n",
       "       [1., 1., 1.]])"
      ]
     },
     "execution_count": 38,
     "metadata": {},
     "output_type": "execute_result"
    }
   ],
   "source": [
    "np.ones((3,3))"
   ]
  },
  {
   "cell_type": "code",
   "execution_count": null,
   "id": "846f74f1-dd46-41e9-a0c2-02a2d976f777",
   "metadata": {},
   "outputs": [],
   "source": []
  },
  {
   "cell_type": "code",
   "execution_count": null,
   "id": "97e6d8dd-8e76-4b9a-a1da-4b6cdbaddd11",
   "metadata": {},
   "outputs": [],
   "source": []
  },
  {
   "cell_type": "code",
   "execution_count": null,
   "id": "c42d7182-9077-45ce-ae18-1ca297612c65",
   "metadata": {},
   "outputs": [],
   "source": []
  },
  {
   "cell_type": "code",
   "execution_count": null,
   "id": "a8a2aa66-175f-457f-9b55-e2fac8e42b51",
   "metadata": {},
   "outputs": [],
   "source": []
  },
  {
   "cell_type": "code",
   "execution_count": null,
   "id": "f2d5209d-5472-42f4-bc12-5b0b600edfb8",
   "metadata": {},
   "outputs": [],
   "source": []
  },
  {
   "cell_type": "code",
   "execution_count": null,
   "id": "88efa0e3-04fb-41ad-8afe-36847ebe627c",
   "metadata": {},
   "outputs": [],
   "source": []
  },
  {
   "cell_type": "code",
   "execution_count": null,
   "id": "d6a337af-a389-468d-af79-16a47e105f05",
   "metadata": {},
   "outputs": [],
   "source": []
  },
  {
   "cell_type": "code",
   "execution_count": null,
   "id": "985f5bca-dd7b-421d-a073-fabd3c89b1ca",
   "metadata": {},
   "outputs": [],
   "source": []
  },
  {
   "cell_type": "code",
   "execution_count": null,
   "id": "e33c7b54-256f-4a9a-883d-b3559bff6294",
   "metadata": {},
   "outputs": [],
   "source": []
  },
  {
   "cell_type": "code",
   "execution_count": null,
   "id": "70a0c223-9891-4047-b220-89bdc8cc1f4f",
   "metadata": {},
   "outputs": [],
   "source": []
  },
  {
   "cell_type": "code",
   "execution_count": null,
   "id": "059c8ab2-1f1a-4c5a-8a5b-3363c14c419a",
   "metadata": {},
   "outputs": [],
   "source": []
  },
  {
   "cell_type": "code",
   "execution_count": null,
   "id": "d585a3fa-5328-4a53-be0f-0ab5664bd1c6",
   "metadata": {},
   "outputs": [],
   "source": []
  },
  {
   "cell_type": "code",
   "execution_count": null,
   "id": "ac7f8bc5-090e-49ff-bbb2-045bdbcafeaf",
   "metadata": {},
   "outputs": [],
   "source": []
  },
  {
   "cell_type": "code",
   "execution_count": null,
   "id": "e3f488b9-91d9-499b-8bb0-5dcacda36ea4",
   "metadata": {},
   "outputs": [],
   "source": []
  },
  {
   "cell_type": "code",
   "execution_count": null,
   "id": "9945660c-853e-408d-be18-0df8300d44cb",
   "metadata": {},
   "outputs": [],
   "source": []
  },
  {
   "cell_type": "code",
   "execution_count": null,
   "id": "c83423c1-9dbd-4dd5-a86c-b7ad7f0f8c2b",
   "metadata": {},
   "outputs": [],
   "source": []
  },
  {
   "cell_type": "code",
   "execution_count": null,
   "id": "2f9b88b4-fc7f-4f8d-9b51-fa6ee8dcc203",
   "metadata": {},
   "outputs": [],
   "source": []
  },
  {
   "cell_type": "code",
   "execution_count": null,
   "id": "43bac09f-0420-4736-b80f-784dcb16df46",
   "metadata": {},
   "outputs": [],
   "source": []
  }
 ],
 "metadata": {
  "kernelspec": {
   "display_name": "Python 3 (ipykernel)",
   "language": "python",
   "name": "python3"
  },
  "language_info": {
   "codemirror_mode": {
    "name": "ipython",
    "version": 3
   },
   "file_extension": ".py",
   "mimetype": "text/x-python",
   "name": "python",
   "nbconvert_exporter": "python",
   "pygments_lexer": "ipython3",
   "version": "3.11.9"
  }
 },
 "nbformat": 4,
 "nbformat_minor": 5
}
