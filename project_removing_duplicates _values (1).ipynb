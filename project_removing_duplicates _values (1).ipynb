{
 "cells": [
  {
   "cell_type": "code",
   "execution_count": 73,
   "id": "88ae8854-298a-4e30-bace-94bbc3931139",
   "metadata": {},
   "outputs": [
    {
     "name": "stdout",
     "output_type": "stream",
     "text": [
      "Maximum number of inputs is 5:\n"
     ]
    }
   ],
   "source": [
    "print(\"Maximum number of inputs is 5:\")\n",
    "def set1(no1, no2, no3, no4, no5,):\n",
    "    list = [no1, no2, no3, no4, no5]\n",
    "    print('Your data is:')\n",
    "    print(list)\n",
    "    for i in list:\n",
    "        \n",
    "        if list.count(i) > 1:\n",
    "            list.remove(i)\n",
    "    print('after remove the duplicate datas')\n",
    "    print(list)\n",
    "        "
   ]
  },
  {
   "cell_type": "code",
   "execution_count": 74,
   "id": "10c25b67-c9e7-4877-be56-e97624b696ed",
   "metadata": {},
   "outputs": [
    {
     "name": "stdout",
     "output_type": "stream",
     "text": [
      "Your data is:\n",
      "['f', 'f', 'f', 'o', 'a']\n",
      "after remove the duplicate datas\n",
      "['f', 'o', 'a']\n"
     ]
    }
   ],
   "source": [
    "set1('f', 'f', 'f', 'o', 'a')"
   ]
  },
  {
   "cell_type": "code",
   "execution_count": null,
   "id": "f8b23f47-6b49-4bce-92c3-a298e7e9cb14",
   "metadata": {},
   "outputs": [],
   "source": [
    "l = [10,2,3,4,5]\n",
    "t = 100"
   ]
  },
  {
   "cell_type": "code",
   "execution_count": null,
   "id": "895bf2dc-6343-4344-b065-63e4505ff7a5",
   "metadata": {},
   "outputs": [],
   "source": []
  }
 ],
 "metadata": {
  "kernelspec": {
   "display_name": "Python 3 (ipykernel)",
   "language": "python",
   "name": "python3"
  },
  "language_info": {
   "codemirror_mode": {
    "name": "ipython",
    "version": 3
   },
   "file_extension": ".py",
   "mimetype": "text/x-python",
   "name": "python",
   "nbconvert_exporter": "python",
   "pygments_lexer": "ipython3",
   "version": "3.11.9"
  }
 },
 "nbformat": 4,
 "nbformat_minor": 5
}
