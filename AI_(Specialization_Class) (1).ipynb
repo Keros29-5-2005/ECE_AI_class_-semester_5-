{
 "cells": [
  {
   "cell_type": "markdown",
   "id": "cd3e6961-4d3f-4450-98d9-ecaf4767af21",
   "metadata": {},
   "source": [
    "### Variables and Data types"
   ]
  },
  {
   "cell_type": "markdown",
   "id": "3fb162c6-922b-437f-9633-b03ff6779324",
   "metadata": {
    "jp-MarkdownHeadingCollapsed": true
   },
   "source": []
  },
  {
   "cell_type": "markdown",
   "id": "dbb7c9a2-96e5-46bf-90a6-1e2f62f927b9",
   "metadata": {},
   "source": [
    "Rules to create a variable\n",
    "1) Variable is Case sensitivity\n",
    "2) Alphanumeric allowed Numericalpha not allowed\n",
    "3) special charaters not allowed like \"*, &\", except _ (undercase)\n",
    "4) space not allowed "
   ]
  },
  {
   "cell_type": "code",
   "execution_count": 1,
   "id": "5da98332-5abd-4d4a-bc5b-8ab79b6a6a42",
   "metadata": {},
   "outputs": [
    {
     "data": {
      "text/plain": [
       "'7020'"
      ]
     },
     "execution_count": 1,
     "metadata": {},
     "output_type": "execute_result"
    }
   ],
   "source": [
    "name  = \"7020\"\n",
    "name"
   ]
  },
  {
   "cell_type": "code",
   "execution_count": 2,
   "id": "e2f54c50-46ad-4b0a-ab99-cff3a18e1d0b",
   "metadata": {},
   "outputs": [],
   "source": [
    "nAme = 34"
   ]
  },
  {
   "cell_type": "markdown",
   "id": "be941819-04cd-4c16-a248-dcfe0d9fb77a",
   "metadata": {},
   "source": [
    "### Types of Data"
   ]
  },
  {
   "cell_type": "markdown",
   "id": "71be1bd4-2454-41e7-bc84-34c32105ae15",
   "metadata": {},
   "source": [
    "numberic - Integer, Float, Complex\n",
    "string -  String\n",
    "Sequence -  array, List, Tuples, Range\n",
    "Mapping - Dictionary\n",
    "set - set, Frozen set\n",
    "Binary - Byte, Array, Memory View"
   ]
  },
  {
   "cell_type": "code",
   "execution_count": 3,
   "id": "aeec0a5a-215c-4b1d-9ccc-65b6903d06d2",
   "metadata": {},
   "outputs": [],
   "source": [
    "com = 6 + 78j + 8"
   ]
  },
  {
   "cell_type": "code",
   "execution_count": 4,
   "id": "44d134ac-3fa6-45bb-8ee7-cc1a847647c6",
   "metadata": {},
   "outputs": [],
   "source": [
    "Class = 'The \"Python\" class is going on'"
   ]
  },
  {
   "cell_type": "code",
   "execution_count": 5,
   "id": "db603fcc-6a42-4c77-8ff7-40252418c8d9",
   "metadata": {},
   "outputs": [
    {
     "name": "stdout",
     "output_type": "stream",
     "text": [
      "The \"Python\" class is going on\n"
     ]
    }
   ],
   "source": [
    "print (Class)"
   ]
  },
  {
   "cell_type": "raw",
   "id": "5776bfc1-4b3d-490f-a067-9adb2fa7ced8",
   "metadata": {},
   "source": [
    "#List\n",
    "####1)List support multiple data types\n",
    "####2)List is mutable\n",
    "####3)List supports repeatability "
   ]
  },
  {
   "cell_type": "code",
   "execution_count": 6,
   "id": "3b830e12-7185-4096-bdf9-aee9e3286933",
   "metadata": {},
   "outputs": [
    {
     "name": "stdout",
     "output_type": "stream",
     "text": [
      "['Solitary', 'World', 2343, 10, 484.0324, True, [89, 3, 90, 100, 0.2]]\n"
     ]
    }
   ],
   "source": [
    "\n",
    "list = [\"Solitary\", 'World', 2343, 8+2, 484.0324, True, [2, 3, 90, 100, 0.2]]\n",
    "list[6][0] = 89\n",
    "print(list)\n"
   ]
  },
  {
   "cell_type": "code",
   "execution_count": 7,
   "id": "d3469a0c-6dff-4a7d-bd1b-e4fe4adfdb48",
   "metadata": {},
   "outputs": [
    {
     "data": {
      "text/plain": [
       "['Solitary', 'World', 2343, 10, 484.0324, True]"
      ]
     },
     "execution_count": 7,
     "metadata": {},
     "output_type": "execute_result"
    }
   ],
   "source": [
    "list[0:6]"
   ]
  },
  {
   "cell_type": "code",
   "execution_count": 8,
   "id": "60453e51-32bf-40ce-abeb-14e5ecd80b20",
   "metadata": {},
   "outputs": [
    {
     "name": "stdout",
     "output_type": "stream",
     "text": [
      "Hello World\n"
     ]
    },
    {
     "data": {
      "text/plain": [
       "'solitar'"
      ]
     },
     "execution_count": 8,
     "metadata": {},
     "output_type": "execute_result"
    }
   ],
   "source": [
    "print('Hello World')\n",
    "nnn = \"solitary World\"\n",
    "nnn[0:7]"
   ]
  },
  {
   "cell_type": "code",
   "execution_count": 9,
   "id": "80c33c8f-898f-4fbd-9f81-37a44de661aa",
   "metadata": {},
   "outputs": [
    {
     "data": {
      "text/plain": [
       "[0.2, 100, 90, 3, 89]"
      ]
     },
     "execution_count": 9,
     "metadata": {},
     "output_type": "execute_result"
    }
   ],
   "source": [
    "list[6][::-1]"
   ]
  },
  {
   "cell_type": "markdown",
   "id": "857b8e9d-5cf6-45b6-8e9c-d14e4de9c444",
   "metadata": {},
   "source": [
    "#skip values"
   ]
  },
  {
   "cell_type": "code",
   "execution_count": 10,
   "id": "04bc4aa5-495a-4d88-9b30-863172927871",
   "metadata": {},
   "outputs": [
    {
     "data": {
      "text/plain": [
       "[[89, 3, 90, 100, 0.2], True, 484.0324, 10, 2343, 'World', 'Solitary']"
      ]
     },
     "execution_count": 10,
     "metadata": {},
     "output_type": "execute_result"
    }
   ],
   "source": [
    "list[::-1]"
   ]
  },
  {
   "cell_type": "code",
   "execution_count": 11,
   "id": "3d8392d0-9b29-4215-b931-ba405dfe8a55",
   "metadata": {},
   "outputs": [
    {
     "data": {
      "text/plain": [
       "[[89, 3, 90, 100, 0.2], 484.0324, 2343, 'Solitary']"
      ]
     },
     "execution_count": 11,
     "metadata": {},
     "output_type": "execute_result"
    }
   ],
   "source": [
    "list[-1::-2]"
   ]
  },
  {
   "cell_type": "code",
   "execution_count": 12,
   "id": "43d1ab11-67bc-450d-8099-1b93b673dc31",
   "metadata": {},
   "outputs": [],
   "source": [
    "list.insert(1, 7020)"
   ]
  },
  {
   "cell_type": "code",
   "execution_count": 13,
   "id": "7adf5edf-0b2d-4c0a-b251-ca96f1a505a2",
   "metadata": {},
   "outputs": [
    {
     "data": {
      "text/plain": [
       "['Solitary', 7020, 'World', 2343, 10, 484.0324, True, [89, 3, 90, 100, 0.2]]"
      ]
     },
     "execution_count": 13,
     "metadata": {},
     "output_type": "execute_result"
    }
   ],
   "source": [
    "list"
   ]
  },
  {
   "cell_type": "code",
   "execution_count": 14,
   "id": "0b4b2525-354c-415a-9cbd-db4c15b0e002",
   "metadata": {},
   "outputs": [],
   "source": [
    "list.remove(7020)"
   ]
  },
  {
   "cell_type": "code",
   "execution_count": 15,
   "id": "57644c12-4ac6-4ee8-8c0f-ba03ed56660e",
   "metadata": {},
   "outputs": [
    {
     "data": {
      "text/plain": [
       "[89, 3, 90, 100, 0.2]"
      ]
     },
     "execution_count": 15,
     "metadata": {},
     "output_type": "execute_result"
    }
   ],
   "source": [
    "list.pop(6)"
   ]
  },
  {
   "cell_type": "code",
   "execution_count": 16,
   "id": "0023ed9b-bb21-4334-be57-f9b6f857c9c6",
   "metadata": {},
   "outputs": [
    {
     "data": {
      "text/plain": [
       "['Solitary', 'World', 2343, 10, 484.0324, True]"
      ]
     },
     "execution_count": 16,
     "metadata": {},
     "output_type": "execute_result"
    }
   ],
   "source": [
    "list"
   ]
  },
  {
   "cell_type": "code",
   "execution_count": 17,
   "id": "defdbab4-8d54-4a9d-b543-0a9bd288e251",
   "metadata": {},
   "outputs": [],
   "source": [
    "list_2 = [9, 8, 78, 28201, 0.5]"
   ]
  },
  {
   "cell_type": "code",
   "execution_count": 18,
   "id": "cad9cbbf-47b6-4e6d-afcc-1c68e50845ee",
   "metadata": {},
   "outputs": [],
   "source": [
    "sorted_list = sorted(list_2)"
   ]
  },
  {
   "cell_type": "code",
   "execution_count": 19,
   "id": "bdb901d6-af08-49a4-935b-611db66757a1",
   "metadata": {},
   "outputs": [
    {
     "data": {
      "text/plain": [
       "[9, 8, 78, 28201, 0.5]"
      ]
     },
     "execution_count": 19,
     "metadata": {},
     "output_type": "execute_result"
    }
   ],
   "source": [
    "list_2"
   ]
  },
  {
   "cell_type": "code",
   "execution_count": 20,
   "id": "4cf01e8e-3ce0-4b14-8ae1-bacf66d0bc8f",
   "metadata": {},
   "outputs": [
    {
     "data": {
      "text/plain": [
       "[0.5, 8, 9, 78, 28201]"
      ]
     },
     "execution_count": 20,
     "metadata": {},
     "output_type": "execute_result"
    }
   ],
   "source": [
    "sorted_list"
   ]
  },
  {
   "cell_type": "code",
   "execution_count": 21,
   "id": "6f40cbd0-fbf5-40b5-a9f1-702dcbc17458",
   "metadata": {},
   "outputs": [],
   "source": [
    "list_2.reverse()"
   ]
  },
  {
   "cell_type": "code",
   "execution_count": 22,
   "id": "22eb37f8-3349-460c-86c0-acd154f01ad7",
   "metadata": {},
   "outputs": [
    {
     "data": {
      "text/plain": [
       "[0.5, 28201, 78, 8, 9]"
      ]
     },
     "execution_count": 22,
     "metadata": {},
     "output_type": "execute_result"
    }
   ],
   "source": [
    "list_2"
   ]
  },
  {
   "cell_type": "code",
   "execution_count": null,
   "id": "f6d5c6a2-acad-4a6e-872f-3bcc3e25c629",
   "metadata": {},
   "outputs": [],
   "source": []
  },
  {
   "cell_type": "code",
   "execution_count": 23,
   "id": "441ebf0c-e3a0-4044-b3a1-4d3a5d8b61d1",
   "metadata": {},
   "outputs": [
    {
     "ename": "TypeError",
     "evalue": "'descending' is an invalid keyword argument for sort()",
     "output_type": "error",
     "traceback": [
      "\u001b[1;31m-----------------------------------------------\u001b[0m",
      "\u001b[1;31mTypeError\u001b[0m     Traceback (most recent call last)",
      "Cell \u001b[1;32mIn[23], line 1\u001b[0m\n\u001b[1;32m----> 1\u001b[0m list_2\u001b[38;5;241m.\u001b[39msort(descending\u001b[38;5;241m=\u001b[39m\u001b[38;5;28;01mTrue\u001b[39;00m)\n",
      "\u001b[1;31mTypeError\u001b[0m: 'descending' is an invalid keyword argument for sort()"
     ]
    }
   ],
   "source": [
    "list_2.sort(descending=True)"
   ]
  },
  {
   "cell_type": "markdown",
   "id": "6de56b2c-c958-41f8-b760-1e384b409499",
   "metadata": {},
   "source": [
    "## Tuple"
   ]
  },
  {
   "cell_type": "code",
   "execution_count": null,
   "id": "6b8da636-1b1f-4a37-be9b-e1c2e0d51e51",
   "metadata": {},
   "outputs": [],
   "source": [
    "nnn = ( 8 ,10,9,43,354,253)\n",
    "nnn"
   ]
  },
  {
   "cell_type": "code",
   "execution_count": null,
   "id": "de86b9ed-0109-43af-a8e5-4f89fd933980",
   "metadata": {},
   "outputs": [],
   "source": []
  },
  {
   "cell_type": "code",
   "execution_count": null,
   "id": "50b1b939-65ab-4702-ad66-bfcc8ab0bf46",
   "metadata": {},
   "outputs": [],
   "source": [
    "nnn[2::]"
   ]
  },
  {
   "cell_type": "code",
   "execution_count": null,
   "id": "d64d0124-c59d-484a-8981-740adf4fbfe5",
   "metadata": {},
   "outputs": [],
   "source": [
    "nnn = min(nnn)\n",
    "nnn"
   ]
  },
  {
   "cell_type": "code",
   "execution_count": null,
   "id": "343c5d29-d5a4-4963-b9c4-573d8a7d1dd1",
   "metadata": {},
   "outputs": [],
   "source": [
    "nnn.sort()"
   ]
  },
  {
   "cell_type": "code",
   "execution_count": null,
   "id": "8d35ae83-b0ba-438f-9b24-abe1521a2893",
   "metadata": {},
   "outputs": [],
   "source": [
    "sets\n",
    "1) "
   ]
  },
  {
   "cell_type": "code",
   "execution_count": null,
   "id": "51ece6df-21aa-4263-a987-ec45692daba6",
   "metadata": {},
   "outputs": [],
   "source": [
    "name = {78, 798, -880, 999,'kkk', 89.8909908, 99, 99}\n",
    "name"
   ]
  },
  {
   "cell_type": "code",
   "execution_count": null,
   "id": "d7dacf34-e949-43c7-844f-00137aab6150",
   "metadata": {},
   "outputs": [],
   "source": [
    "name.add(78)\n",
    "name"
   ]
  },
  {
   "cell_type": "code",
   "execution_count": null,
   "id": "cbb9635d-8ab1-4a47-896d-e57c0c72de4b",
   "metadata": {},
   "outputs": [],
   "source": [
    "name.()"
   ]
  },
  {
   "cell_type": "markdown",
   "id": "011c7c44-4b44-48dc-8197-bf3f96fb00d8",
   "metadata": {},
   "source": []
  },
  {
   "cell_type": "code",
   "execution_count": null,
   "id": "8ba54c92-d74b-4c5d-96db-22d818a16e78",
   "metadata": {},
   "outputs": [],
   "source": [
    "list.sorted(90)"
   ]
  },
  {
   "cell_type": "code",
   "execution_count": null,
   "id": "d16dffea-9f25-4fd7-be4d-ad2ed64c85e3",
   "metadata": {},
   "outputs": [],
   "source": [
    "name.update({'er', 'w'})\n",
    "name"
   ]
  },
  {
   "cell_type": "code",
   "execution_count": null,
   "id": "1e7b4a9f-70a2-4b52-8f26-6e498e8f6824",
   "metadata": {},
   "outputs": [],
   "source": [
    "name.remove(79)"
   ]
  },
  {
   "cell_type": "code",
   "execution_count": null,
   "id": "943a164f-6d40-4cda-a938-ba314e2b3fc0",
   "metadata": {},
   "outputs": [],
   "source": [
    "name.discard(79)\n",
    "name"
   ]
  },
  {
   "cell_type": "code",
   "execution_count": null,
   "id": "ae74a85c-e777-4bf6-bec7-29b2f60a5252",
   "metadata": {},
   "outputs": [],
   "source": [
    "Name = frozenset({'6904', '393', '03003400', 'jkl;hgfdsaeruji='})\n",
    "Name "
   ]
  },
  {
   "cell_type": "code",
   "execution_count": null,
   "id": "5f4603ee-c86c-4637-bbd0-1397f7004dfe",
   "metadata": {},
   "outputs": [],
   "source": [
    "Name.len()"
   ]
  },
  {
   "cell_type": "code",
   "execution_count": null,
   "id": "1c5e2b5b-f53f-417d-a229-c1c054141f08",
   "metadata": {},
   "outputs": [],
   "source": [
    "Name."
   ]
  },
  {
   "cell_type": "code",
   "execution_count": null,
   "id": "109c22db-b836-466d-92a3-f6da375e1f90",
   "metadata": {},
   "outputs": [],
   "source": [
    "d = {'d':\"fsw\", 'd':\"sdf\"}\n",
    "d"
   ]
  },
  {
   "cell_type": "code",
   "execution_count": null,
   "id": "e8652686-a663-4bf5-b2dc-45390a83d6ad",
   "metadata": {},
   "outputs": [],
   "source": [
    "D = {'o':80, '2e':'2e', 90:'kkk'}\n",
    "D"
   ]
  },
  {
   "cell_type": "code",
   "execution_count": null,
   "id": "78e7ca37-d2fd-41e1-b6ec-b774e4f8a313",
   "metadata": {},
   "outputs": [],
   "source": [
    "D[90]\n",
    "D[90] = 9999\n",
    "D"
   ]
  },
  {
   "cell_type": "code",
   "execution_count": null,
   "id": "6119b4ec-2fb7-4864-a2af-23f49bac20bc",
   "metadata": {},
   "outputs": [],
   "source": [
    "print(D.keys())\n",
    "D.values()"
   ]
  },
  {
   "cell_type": "code",
   "execution_count": null,
   "id": "5d1da24e-be5a-48cc-b699-8512ab90b3bc",
   "metadata": {},
   "outputs": [],
   "source": [
    "D.pop('o')\n",
    "D"
   ]
  },
  {
   "cell_type": "raw",
   "id": "42a10057-8be2-4613-80de-b9d40ab02b2d",
   "metadata": {},
   "source": []
  },
  {
   "cell_type": "code",
   "execution_count": null,
   "id": "5ebb4d48-d70d-4571-8c52-d9d1c1bb7d3d",
   "metadata": {},
   "outputs": [],
   "source": [
    "D.items()"
   ]
  },
  {
   "cell_type": "code",
   "execution_count": null,
   "id": "fc018c42-1b69-4367-931a-903a41216960",
   "metadata": {},
   "outputs": [],
   "source": [
    "D.del('2e')"
   ]
  },
  {
   "cell_type": "code",
   "execution_count": null,
   "id": "c01ceebc-6869-4f48-b2c9-af3d0a1b3f21",
   "metadata": {},
   "outputs": [],
   "source": [
    "D.clear()\n",
    "print(D)"
   ]
  },
  {
   "cell_type": "code",
   "execution_count": null,
   "id": "70b6f0a2-ffbe-4cf0-891c-3bc1b6ff43b4",
   "metadata": {},
   "outputs": [],
   "source": [
    "num = int(input('Enter the input number: '))\n",
    "c_num = num % 2\n",
    "if c_num == 0:\n",
    "    print(\"It is even number\")\n",
    "else:\n",
    "    print(\"It is odd number\")"
   ]
  },
  {
   "cell_type": "code",
   "execution_count": null,
   "id": "e74708f6-c6ab-432f-aa97-c429856f40ec",
   "metadata": {},
   "outputs": [],
   "source": [
    "print('HEllo World')"
   ]
  },
  {
   "cell_type": "code",
   "execution_count": null,
   "id": "c75becdb-0284-4218-9e68-d6a8c74d649f",
   "metadata": {},
   "outputs": [],
   "source": []
  },
  {
   "cell_type": "code",
   "execution_count": 32,
   "id": "fdca26e5-652a-4e67-ac1c-b8759d9c9117",
   "metadata": {},
   "outputs": [
    {
     "name": "stdout",
     "output_type": "stream",
     "text": [
      "505.0\n"
     ]
    }
   ],
   "source": [
    "print(2020/4)"
   ]
  },
  {
   "cell_type": "code",
   "execution_count": 28,
   "id": "a6f15353-9cda-43aa-8965-1a642e08b478",
   "metadata": {},
   "outputs": [
    {
     "name": "stdout",
     "output_type": "stream",
     "text": [
      "1.0\n"
     ]
    }
   ],
   "source": [
    "print(505.0%2)"
   ]
  },
  {
   "cell_type": "code",
   "execution_count": 26,
   "id": "ef606949-c84b-4629-a72f-976363bcb49d",
   "metadata": {},
   "outputs": [
    {
     "name": "stdout",
     "output_type": "stream",
     "text": [
      "True\n"
     ]
    }
   ],
   "source": [
    "print(0.0 == 0)"
   ]
  },
  {
   "cell_type": "code",
   "execution_count": 33,
   "id": "d613e2c9-e2f7-4760-9fb2-4ad861592b4c",
   "metadata": {},
   "outputs": [
    {
     "name": "stdout",
     "output_type": "stream",
     "text": [
      "505.0\n"
     ]
    }
   ],
   "source": [
    "print(2020/4)"
   ]
  },
  {
   "cell_type": "code",
   "execution_count": 42,
   "id": "138442b3-7603-449c-a3d6-bd79f7bf1f75",
   "metadata": {},
   "outputs": [
    {
     "name": "stdout",
     "output_type": "stream",
     "text": [
      "0\n"
     ]
    }
   ],
   "source": [
    "print(2020%4)"
   ]
  },
  {
   "cell_type": "code",
   "execution_count": 43,
   "id": "849cb222-a722-41c2-a3f9-d54e4492a86a",
   "metadata": {},
   "outputs": [
    {
     "name": "stdin",
     "output_type": "stream",
     "text": [
      "Enter the name:  Keros\n",
      "Enter your age:  19\n"
     ]
    },
    {
     "name": "stdout",
     "output_type": "stream",
     "text": [
      "Your name is Keros and your age is 19\n"
     ]
    }
   ],
   "source": [
    "name = str(input('Enter the name: '))\n",
    "age = int(input(\"Enter your age: \"))\n",
    "print(f'Your name is {name} and your age is {age}')"
   ]
  },
  {
   "cell_type": "code",
   "execution_count": null,
   "id": "203de20b-9dfb-4634-87e1-8b651eff9bdf",
   "metadata": {},
   "outputs": [],
   "source": [
    "int_a = int(input('Enter the first num: '))\n",
    "int_a = int(input('Enter the first num: '))\n",
    "int_a = int(input('Enter the first num: '))"
   ]
  },
  {
   "cell_type": "code",
   "execution_count": null,
   "id": "de90a679-7e03-4695-b727-90b7d70093b7",
   "metadata": {},
   "outputs": [],
   "source": []
  },
  {
   "cell_type": "code",
   "execution_count": null,
   "id": "e9630997-639a-4936-b51e-2e2ef120ec06",
   "metadata": {},
   "outputs": [],
   "source": []
  },
  {
   "cell_type": "code",
   "execution_count": 60,
   "id": "cb5e735b-baba-4e24-a84c-26b2eb83d9be",
   "metadata": {},
   "outputs": [
    {
     "name": "stdin",
     "output_type": "stream",
     "text": [
      "Enter the Year:  2021\n"
     ]
    },
    {
     "name": "stdout",
     "output_type": "stream",
     "text": [
      "It is not a leap year\n"
     ]
    }
   ],
   "source": [
    "leap_year = int(input('Enter the Year: '))\n",
    "if leap_year%4 == 0 and leap_year % 100 != 0 or leap_year %400 ==0:\n",
    "    print('It is leap year')\n",
    "else:\n",
    "    print('It is not a leap year')"
   ]
  },
  {
   "cell_type": "code",
   "execution_count": 58,
   "id": "10e4f83e-de78-44d4-91ac-af5e0d944944",
   "metadata": {},
   "outputs": [
    {
     "name": "stdout",
     "output_type": "stream",
     "text": [
      "0\n"
     ]
    }
   ],
   "source": [
    "print(2026%2)"
   ]
  },
  {
   "cell_type": "code",
   "execution_count": 61,
   "id": "02e2810d-092d-43fc-86f7-6c596bc34edf",
   "metadata": {},
   "outputs": [
    {
     "name": "stdout",
     "output_type": "stream",
     "text": [
      "34 is even number\n",
      "23 is odd number\n",
      "5 is odd number\n",
      "34 is even number\n",
      "999 is odd number\n",
      "1000.23 is odd number\n",
      "1000 is even number\n"
     ]
    }
   ],
   "source": [
    "num = [34, 23, 5, 34, 999, 1000.23, 1000]\n",
    "for i in num:\n",
    "    if i%2 == 0:\n",
    "        print(f'{i} is even number')\n",
    "    else:\n",
    "        print(f'{i} is odd number')"
   ]
  },
  {
   "cell_type": "code",
   "execution_count": 6,
   "id": "5812b443-933a-47af-9d0c-6bd74e3db4de",
   "metadata": {},
   "outputs": [
    {
     "name": "stdin",
     "output_type": "stream",
     "text": [
      "Enter the input number:  7\n"
     ]
    },
    {
     "name": "stdout",
     "output_type": "stream",
     "text": [
      " * \n",
      " *  * \n",
      " *  *  * \n",
      " *  *  *  * \n",
      " *  *  *  *  * \n",
      " *  *  *  *  *  * \n",
      " *  *  *  *  *  *  * \n"
     ]
    }
   ],
   "source": [
    "rows = int(input('Enter the input number: '))\n",
    "for i in range(1, rows + 1):\n",
    "    for j in range(1, i + 1):\n",
    "        print(' * ', end = '')\n",
    "    print()"
   ]
  },
  {
   "cell_type": "code",
   "execution_count": null,
   "id": "1164e8d8-ed1a-41b0-af55-b33bb64c95a7",
   "metadata": {},
   "outputs": [],
   "source": [
    "while True:\n",
    "    print(11)"
   ]
  },
  {
   "cell_type": "code",
   "execution_count": null,
   "id": "fdca3099-515f-4030-9d38-83429849f07f",
   "metadata": {},
   "outputs": [],
   "source": [
    "def mic():\n",
    "    "
   ]
  },
  {
   "cell_type": "code",
   "execution_count": null,
   "id": "18aee798-b01c-4375-8712-bc29716895f4",
   "metadata": {},
   "outputs": [],
   "source": []
  },
  {
   "cell_type": "code",
   "execution_count": null,
   "id": "1bedef1c-aa17-4aaa-9164-39357b00e312",
   "metadata": {},
   "outputs": [],
   "source": []
  },
  {
   "cell_type": "code",
   "execution_count": null,
   "id": "738dd8f8-898f-4cba-bd3a-f9f30a340ac6",
   "metadata": {},
   "outputs": [],
   "source": []
  },
  {
   "cell_type": "code",
   "execution_count": null,
   "id": "5755d644-307e-498f-b438-41721180f993",
   "metadata": {},
   "outputs": [],
   "source": []
  }
 ],
 "metadata": {
  "kernelspec": {
   "display_name": "Python 3 (ipykernel)",
   "language": "python",
   "name": "python3"
  },
  "language_info": {
   "codemirror_mode": {
    "name": "ipython",
    "version": 3
   },
   "file_extension": ".py",
   "mimetype": "text/x-python",
   "name": "python",
   "nbconvert_exporter": "python",
   "pygments_lexer": "ipython3",
   "version": "3.11.9"
  }
 },
 "nbformat": 4,
 "nbformat_minor": 5
}
